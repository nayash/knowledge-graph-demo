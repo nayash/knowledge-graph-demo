{
 "cells": [
  {
   "cell_type": "code",
   "execution_count": 29,
   "id": "54f1a986",
   "metadata": {},
   "outputs": [
    {
     "data": {
      "text/plain": [
       "<networkx.classes.multidigraph.MultiDiGraph at 0x75021805ec90>"
      ]
     },
     "execution_count": 29,
     "metadata": {},
     "output_type": "execute_result"
    }
   ],
   "source": [
    "import pickle\n",
    "import networkx as nx\n",
    "\n",
    "G = pickle.load(open(\"./output/thirsty-crow-prompt2_nx_graph.pkl\", \"rb\"))\n",
    "G"
   ]
  },
  {
   "cell_type": "code",
   "execution_count": 30,
   "id": "6bed31e6",
   "metadata": {},
   "outputs": [],
   "source": [
    "query = \"how was the crow able to drink water?\""
   ]
  },
  {
   "cell_type": "code",
   "execution_count": 31,
   "id": "7fbff6c6",
   "metadata": {},
   "outputs": [
    {
     "name": "stdout",
     "output_type": "stream",
     "text": [
      "no. of edges in KG: 9\n",
      "triple: ('crow', 'fly_in_search_of', 'water')\n",
      "triple: ('crow', 'see', 'water')\n",
      "triple: ('crow', 'try_to_reach', 'water')\n",
      "triple: ('crow', 'drink', 'water')\n",
      "triple: ('crow', 'fly_away', 'water')\n",
      "triple: ('crow', 'look_inside', 'pitcher')\n",
      "triple: ('crow', 'drop_in', 'stone')\n",
      "triple: ('pitcher', 'rise', 'water')\n",
      "triple: ('stone', 'drop', 'pitcher')\n",
      "number of relevant triples found: 8, [('crow', 'fly_in_search_of', 'water'), ('crow', 'see', 'water'), ('crow', 'try_to_reach', 'water'), ('crow', 'drink', 'water'), ('crow', 'fly_away', 'water'), ('crow', 'look_inside', 'pitcher'), ('crow', 'drop_in', 'stone'), ('stone', 'drop', 'pitcher')]\n",
      "The crow was able to drink water by trying to reach it and then drinking from it.\n"
     ]
    }
   ],
   "source": [
    "import networkx as nx\n",
    "import ollama\n",
    "import json\n",
    "\n",
    "with open(\"./input/config.json\", \"r\") as file:\n",
    "    config = json.load(file)\n",
    "\n",
    "model = config['model_name']\n",
    "\n",
    "system_prompt = \"\"\"You are a helpful assistant that extracts the root form of the given word in lowercase.\n",
    "Return only the root word in response.\"\"\"\n",
    "\n",
    "def get_word_root(text):\n",
    "    response = ollama.chat(model=model, messages=[\n",
    "        {\"role\": \"system\", \"content\": system_prompt},\n",
    "        {\"role\": \"user\", \"content\": text}\n",
    "        ])\n",
    "    # print(f'response={response['message']['content']}')\n",
    "    resp_content = response['message']['content']\n",
    "    return resp_content\n",
    "\n",
    "# --- Step 2: Retrieve relevant triples ---\n",
    "def search_kg(G, query):\n",
    "    print(f\"no. of edges in KG: {G.number_of_edges()}\")\n",
    "    results = []\n",
    "    for u, v, d in G.edges(data=True):\n",
    "        relation = d.get('label', None) if d else None\n",
    "        relation = d.get('relation', None) if relation is None else relation\n",
    "        triple = (u, relation, v)\n",
    "        print(f'triple: {triple}')\n",
    "        # naive: check if query words appear in triple\n",
    "\n",
    "        if any(get_word_root(word) in \" \".join(map(str, triple)).lower() for word in query.split()):\n",
    "            results.append(triple)\n",
    "    return results\n",
    "\n",
    "triples = search_kg(G, query)\n",
    "print(f'number of relevant triples found: {len(triples)}, {triples}')\n",
    "\n",
    "# --- Step 3: Send to Ollama model ---\n",
    "context = f\"\"\"\n",
    "You are given facts from a knowledge graph:\n",
    "\n",
    "{triples}\n",
    "\n",
    "Answer the user query based ONLY on these facts.\n",
    "Answer in full sentence.\n",
    "Query: {query}\n",
    "\"\"\"\n",
    "\n",
    "response = ollama.chat(model=\"gemma3:4b-it-qat\", messages=[{\"role\": \"user\", \"content\": context}])\n",
    "\n",
    "print(response[\"message\"][\"content\"])\n"
   ]
  },
  {
   "cell_type": "code",
   "execution_count": null,
   "id": "05739012",
   "metadata": {},
   "outputs": [],
   "source": []
  }
 ],
 "metadata": {
  "kernelspec": {
   "display_name": "env_pt",
   "language": "python",
   "name": "python3"
  },
  "language_info": {
   "codemirror_mode": {
    "name": "ipython",
    "version": 3
   },
   "file_extension": ".py",
   "mimetype": "text/x-python",
   "name": "python",
   "nbconvert_exporter": "python",
   "pygments_lexer": "ipython3",
   "version": "3.12.2"
  }
 },
 "nbformat": 4,
 "nbformat_minor": 5
}
