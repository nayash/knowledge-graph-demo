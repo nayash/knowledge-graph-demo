{
 "cells": [
  {
   "cell_type": "code",
   "execution_count": null,
   "id": "3b389423",
   "metadata": {},
   "outputs": [],
   "source": [
    "graph_file = \"./output/faq/nx_graph.pkl\"\n",
    "query = \"does the phone come with charger?\" # \"what's included in the box?\""
   ]
  },
  {
   "cell_type": "code",
   "execution_count": 41,
   "id": "54f1a986",
   "metadata": {},
   "outputs": [
    {
     "data": {
      "text/plain": [
       "<networkx.classes.multidigraph.MultiDiGraph at 0x721aeb683b90>"
      ]
     },
     "execution_count": 41,
     "metadata": {},
     "output_type": "execute_result"
    }
   ],
   "source": [
    "import pickle\n",
    "import networkx as nx\n",
    "\n",
    "G = pickle.load(open(graph_file, \"rb\"))\n",
    "G"
   ]
  },
  {
   "cell_type": "code",
   "execution_count": null,
   "id": "7fbff6c6",
   "metadata": {},
   "outputs": [
    {
     "name": "stdout",
     "output_type": "stream",
     "text": [
      "keywords=phone, charger\n",
      "pairs=[('phone', 'charger')]\n",
      "paths=[]\n",
      "relations=[]\n",
      "number of relevant triples found: 0, []\n",
      "I cannot answer the question \"does the phone come with charger?\" because the provided facts do not contain any information about whether a phone comes with a charger.\n"
     ]
    }
   ],
   "source": [
    "import networkx as nx\n",
    "import ollama\n",
    "import json\n",
    "from itertools import combinations\n",
    "\n",
    "\n",
    "with open(\"./input/config.json\", \"r\") as file:\n",
    "    config = json.load(file)\n",
    "\n",
    "model = config['model_name']\n",
    "\n",
    "system_prompt_root_word = \"\"\"You are a helpful assistant that extracts the root form of the given word in lowercase.\n",
    "Return only the root word in response.\"\"\"\n",
    "\n",
    "# instead try to find source, relation and target keywords?\n",
    "system_prompt_key_words = \"\"\"You are a helpful assistant that extracts keywords from the given question in root form (e.g. ran becomes run) and lowercase.\n",
    "The returned keywords should be critical to answer the question.\n",
    "The returned words should be separated by space.\n",
    "Return only the keywords in response separated by ','\"\"\"\n",
    "\n",
    "def get_llm_response(text, system_prompt):\n",
    "    response = ollama.chat(model=model, messages=[\n",
    "        {\"role\": \"system\", \"content\": system_prompt},\n",
    "        {\"role\": \"user\", \"content\": text}\n",
    "        ])\n",
    "    # print(f'response={response['message']['content']}')\n",
    "    resp_content = response['message']['content']\n",
    "    return resp_content\n",
    "\n",
    "# --- Step 2: Retrieve relevant triples ---\n",
    "def search_kg(G, query):\n",
    "    print(f\"no. of edges in KG: {G.number_of_edges()}\")\n",
    "    results = []\n",
    "    for u, v, d in G.edges(data=True):\n",
    "        relation = d.get('label', None) if d else None\n",
    "        relation = d.get('relation', None) if relation is None else relation\n",
    "        triple = (u, relation, v)\n",
    "        print(f'triple: {triple}')\n",
    "        # naive: check if query words appear in triple\n",
    "\n",
    "        if any(get_llm_response(word, system_prompt_root_word) in \" \".join(map(str, triple)).lower() for word in query.split()):\n",
    "            results.append(triple)\n",
    "    return results\n",
    "\n",
    "def search_kg2(G, query):\n",
    "    keywords = get_llm_response(query, system_prompt_key_words)\n",
    "    print(f'keywords={keywords}')\n",
    "    keywords = [part.strip() for part in keywords.split(',')]\n",
    "    pairs = list(combinations(keywords, 2))\n",
    "    print(f'pairs={pairs}')\n",
    "    relations = []\n",
    "    for u, v in pairs:\n",
    "        paths = list(nx.all_simple_paths(G, source=u, target=v))\n",
    "        print(f'paths={paths}')\n",
    "        for path in paths:\n",
    "            for i in range(len(path)-1):\n",
    "                print(f'path{i}[{path[i]},{path[i+1]}]=>{G[path[i]]}-->{G[path[i]][path[i+1]]}')\n",
    "                for key in G[path[i]][path[i+1]]:\n",
    "                    print(f'key={key}, value={G[path[i]][path[i+1]][key]}')\n",
    "                    rel = G[path[i]][path[i+1]][key]['relation']\n",
    "                relations.append((path[i],rel, path[i+1]))\n",
    "\n",
    "    print(f'relations={relations}')\n",
    "    return relations\n",
    "\n",
    "triples = search_kg2(G, query)\n",
    "print(f'number of relevant triples found: {len(triples)}, {triples}')\n",
    "\n",
    "# --- Step 3: Send to Ollama model ---\n",
    "context = f\"\"\"\n",
    "You are given facts from a knowledge graph:\n",
    "\n",
    "{triples}\n",
    "\n",
    "Answer the user query based ONLY on these facts.\n",
    "Answer in full sentence.\n",
    "Query: {query}\n",
    "\"\"\"\n",
    "\n",
    "response = ollama.chat(model=\"gemma3:4b-it-qat\", messages=[{\"role\": \"user\", \"content\": context}])\n",
    "\n",
    "print(response[\"message\"][\"content\"])\n"
   ]
  },
  {
   "cell_type": "code",
   "execution_count": 39,
   "id": "aebb1318",
   "metadata": {},
   "outputs": [
    {
     "data": {
      "text/plain": [
       "[('box', 'Phone', {'relation': 'include'}),\n",
       " ('box', 'USB-C cable', {'relation': 'include'}),\n",
       " ('box', '30W charger', {'relation': 'include'}),\n",
       " ('box', 'SIM eject tool', {'relation': 'include'}),\n",
       " ('box', 'quick start guide', {'relation': 'include'}),\n",
       " ('box', 'clear case', {'relation': 'include'}),\n",
       " ('phone', 'setup wizard', {'relation': 'set_up'}),\n",
       " ('phone', 'Wi-Fi', {'relation': 'connect'}),\n",
       " ('phone', 'cloud account', {'relation': 'sign_in'}),\n",
       " ('phone', 'screen lock', {'relation': 'set'}),\n",
       " ('phone', 'data', {'relation': 'restore'}),\n",
       " ('phone', 'battery', {'relation': 'last'}),\n",
       " ('phone', '30W charger', {'relation': 'charge_with'}),\n",
       " ('phone', 'water', {'relation': 'be_resistant'}),\n",
       " ('phone', 'dust', {'relation': 'be_resistant'}),\n",
       " ('phone', 'microSD', {'relation': 'support'}),\n",
       " ('phone', 'cloud backup', {'relation': 'have'}),\n",
       " ('phone', 'software update policy', {'relation': 'have'}),\n",
       " ('phone', 'dual SIM', {'relation': 'support'}),\n",
       " ('phone', 'eSIM', {'relation': 'support'}),\n",
       " ('phone', '5G sub-6', {'relation': 'have'}),\n",
       " ('phone', 'VoLTE', {'relation': 'have'}),\n",
       " ('phone', 'Wi-Fi Calling', {'relation': 'have'}),\n",
       " ('phone', 'carrier support', {'relation': 'depend'}),\n",
       " ('phone', 'great photos', {'relation': 'take'}),\n",
       " ('phone', 'Night Mode', {'relation': 'enable'}),\n",
       " ('phone', 'steady', {'relation': 'hold'}),\n",
       " ('phone', 'processing', {'relation': 'wait'}),\n",
       " ('phone', 'Pro Mode', {'relation': 'use'}),\n",
       " ('phone', 'RAW', {'relation': 'consider'}),\n",
       " ('phone', 'in-display fingerprint', {'relation': 'have'}),\n",
       " ('phone', 'secure face unlock', {'relation': 'have'}),\n",
       " ('phone', 'warranty', {'relation': 'have'}),\n",
       " ('phone', '24/7 chat support', {'relation': 'have'}),\n",
       " ('phone', 'on-device Care app', {'relation': 'have'}),\n",
       " ('data', 'secure enclave', {'relation': 'stays'}),\n",
       " ('charger', '50%', {'relation': 'reach'}),\n",
       " ('charger', '30 minutes', {'relation': 'take'}),\n",
       " ('storage', '1 TB', {'relation': 'up_to'}),\n",
       " ('updates', 'feature updates', {'relation': 'have'}),\n",
       " ('updates', 'security patches', {'relation': 'have'}),\n",
       " ('updates', 'Settings > System > Software Update', {'relation': 'through'}),\n",
       " ('SIM', 'nano SIM', {'relation': 'have'}),\n",
       " ('warranty', 'limited hardware warranty', {'relation': 'have'}),\n",
       " ('coverage', 'optional extended coverage', {'relation': 'with'}),\n",
       " ('Care app', 'diagnostics', {'relation': 'for'})]"
      ]
     },
     "execution_count": 39,
     "metadata": {},
     "output_type": "execute_result"
    }
   ],
   "source": [
    "list(G.edges(data=True))"
   ]
  }
 ],
 "metadata": {
  "kernelspec": {
   "display_name": "env_pt",
   "language": "python",
   "name": "python3"
  },
  "language_info": {
   "codemirror_mode": {
    "name": "ipython",
    "version": 3
   },
   "file_extension": ".py",
   "mimetype": "text/x-python",
   "name": "python",
   "nbconvert_exporter": "python",
   "pygments_lexer": "ipython3",
   "version": "3.12.2"
  }
 },
 "nbformat": 4,
 "nbformat_minor": 5
}
