{
 "cells": [
  {
   "cell_type": "code",
   "execution_count": 2,
   "id": "228c524d",
   "metadata": {},
   "outputs": [
    {
     "data": {
      "text/plain": [
       "8"
      ]
     },
     "execution_count": 2,
     "metadata": {},
     "output_type": "execute_result"
    }
   ],
   "source": [
    "import pickle\n",
    "\n",
    "with open(\"./output/thirsty-crow_all_triples.pkl\", \"rb\") as f:\n",
    "    all_triplets = pickle.load(f)\n",
    "\n",
    "len(all_triplets)"
   ]
  },
  {
   "cell_type": "code",
   "execution_count": 3,
   "id": "6c55c7c1",
   "metadata": {},
   "outputs": [
    {
     "data": {
      "text/plain": [
       "[{'head_entity': {'entity': 'crow', 'attribute': ''},\n",
       "  'relation': {'relation': 'fly', 'attribute': ''},\n",
       "  'tail_entity': {'entity': 'water', 'attribute': ''}},\n",
       " {'head_entity': {'entity': 'crow', 'attribute': ''},\n",
       "  'relation': {'relation': 'look_inside', 'attribute': ''},\n",
       "  'tail_entity': {'entity': 'pitcher', 'attribute': ''}},\n",
       " {'head_entity': {'entity': 'crow', 'attribute': ''},\n",
       "  'relation': {'relation': 'try_to_reach', 'attribute': ''},\n",
       "  'tail_entity': {'entity': 'water', 'attribute': 'low'}},\n",
       " {'head_entity': {'entity': 'crow', 'attribute': ''},\n",
       "  'relation': {'relation': 'think_of', 'attribute': ''},\n",
       "  'tail_entity': {'entity': 'plan', 'attribute': ''}},\n",
       " {'head_entity': {'entity': 'crow', 'attribute': ''},\n",
       "  'relation': {'relation': 'pick_up', 'attribute': ''},\n",
       "  'tail_entity': {'entity': 'stone', 'attribute': 'small'}},\n",
       " {'head_entity': {'entity': 'crow', 'attribute': ''},\n",
       "  'relation': {'relation': 'drop', 'attribute': ''},\n",
       "  'tail_entity': {'entity': 'stone', 'attribute': 'small'}},\n",
       " {'head_entity': {'entity': 'stone', 'attribute': ''},\n",
       "  'relation': {'relation': 'rise', 'attribute': ''},\n",
       "  'tail_entity': {'entity': 'water', 'attribute': 'higher'}},\n",
       " {'head_entity': {'entity': 'crow', 'attribute': ''},\n",
       "  'relation': {'relation': 'drink', 'attribute': ''},\n",
       "  'tail_entity': {'entity': 'water', 'attribute': ''}}]"
      ]
     },
     "execution_count": 3,
     "metadata": {},
     "output_type": "execute_result"
    }
   ],
   "source": [
    "all_triplets"
   ]
  },
  {
   "cell_type": "code",
   "execution_count": null,
   "id": "6001756b",
   "metadata": {},
   "outputs": [],
   "source": [
    "import networkx as nx\n",
    "import matplotlib.pyplot as plt\n",
    "\n",
    "G = nx.MultiDiGraph()\n",
    "\n",
    "# Add nodes and edges\n",
    "for triple in all_triplets:\n",
    "    head = triple['head_entity']['entity']\n",
    "    tail = triple['tail_entity']['entity']\n",
    "    relation = triple['relation']['relation']\n",
    "    \n",
    "    # Add nodes with attributes if available\n",
    "    G.add_node(head, attr=triple['head_entity']['attribute'])\n",
    "    G.add_node(tail, attr=triple['tail_entity']['attribute'])\n",
    "    \n",
    "    # Add edge with relation label\n",
    "    G.add_edge(head, tail, relation=relation)"
   ]
  },
  {
   "cell_type": "code",
   "execution_count": null,
   "id": "ee7a1253",
   "metadata": {},
   "outputs": [],
   "source": []
  }
 ],
 "metadata": {
  "kernelspec": {
   "display_name": "env_pt",
   "language": "python",
   "name": "python3"
  },
  "language_info": {
   "codemirror_mode": {
    "name": "ipython",
    "version": 3
   },
   "file_extension": ".py",
   "mimetype": "text/x-python",
   "name": "python",
   "nbconvert_exporter": "python",
   "pygments_lexer": "ipython3",
   "version": "3.12.2"
  }
 },
 "nbformat": 4,
 "nbformat_minor": 5
}
